{
 "cells": [
  {
   "cell_type": "code",
   "execution_count": 22,
   "metadata": {},
   "outputs": [],
   "source": [
    "import requests\n",
    "def getEntity(id):\n",
    "    #api2 = f'https://www.wikidata.org/w/api.php?action=wbgetentities&format=json&ids={id}&formatversion=2'\n",
    "    api = f'https://www.wikidata.org/w/api.php?action=wbgetentities&props=labels&ids={id}&languages=es&format=json'\n",
    "    response = requests.get(api)\n",
    "    return response\n",
    "\n"
   ]
  },
  {
   "cell_type": "code",
   "execution_count": 33,
   "metadata": {},
   "outputs": [],
   "source": [
    "def send_sparql_query(ids):\n",
    "    ids = ['\"/'+id.replace(\".\",\"/\")+'\"' for id in ids]\n",
    "    ids = ' '.join(ids)\n",
    "    sparql_query = '\\\n",
    "    PREFIX wd: <http://www.wikidata.org/entity/>\\\n",
    "    PREFIX wdt: <http://www.wikidata.org/prop/direct/>\\\n",
    "    PREFIX wikibase: <http://wikiba.se/ontology#>\\\n",
    "    SELECT ?s ?sLabel ?freebaseID WHERE {\\\n",
    "        VALUES ?freebaseID { '+ids+'\\\n",
    "        }\\\n",
    "        ?s wdt:P646 ?freebaseID .\\\n",
    "        SERVICE wikibase:label {\\\n",
    "        bd:serviceParam wikibase:language \"en\" .\\\n",
    "        }\\\n",
    "    }\\\n",
    "    '\n",
    "    print(sparql_query)\n",
    "    url = 'https://query.wikidata.org/sparql'\n",
    "    headers = {'User-Agent': 'Mozilla/5.0 (Windows NT 10.0; Win64; x64) AppleWebKit/537.36 (KHTML, like Gecko) Chrome/58.0.3029.110 Safari/537.3'}\n",
    "    params = {\n",
    "        'format': 'json',\n",
    "        'query': sparql_query\n",
    "    }\n",
    "\n",
    "    response = requests.get(url, headers=headers, params=params)\n",
    "    response.raise_for_status()\n",
    "\n",
    "    return response.json()"
   ]
  },
  {
   "cell_type": "code",
   "execution_count": 35,
   "metadata": {},
   "outputs": [
    {
     "name": "stdout",
     "output_type": "stream",
     "text": [
      "    PREFIX wd: <http://www.wikidata.org/entity/>    PREFIX wdt: <http://www.wikidata.org/prop/direct/>    PREFIX wikibase: <http://wikiba.se/ontology#>    SELECT ?s ?sLabel ?freebaseID WHERE {        VALUES ?freebaseID { \"/m/0j5g9\" \"/m/05bcl\" \"/m/06q1r\" \"/m/02jx1\"        }        ?s wdt:P646 ?freebaseID .        SERVICE wikibase:label {        bd:serviceParam wikibase:language \"en\" .        }    }    \n",
      "England\n",
      "Northern Ireland\n",
      "Wales\n",
      "Scotland\n"
     ]
    }
   ],
   "source": [
    "\n",
    "try:\n",
    "    result = send_sparql_query(['m.0j5g9', 'm.05bcl', 'm.06q1r', 'm.02jx1'] )\n",
    "    # Process the result here\n",
    "    for r in result[\"results\"][\"bindings\"]:\n",
    "        print(r[\"sLabel\"][\"value\"])\n",
    "except requests.exceptions.HTTPError as e:\n",
    "    print(f'Error: {e}')"
   ]
  },
  {
   "cell_type": "code",
   "execution_count": 23,
   "metadata": {},
   "outputs": [],
   "source": [
    "a = getEntity('m.05kgd8n')"
   ]
  },
  {
   "cell_type": "code",
   "execution_count": 24,
   "metadata": {},
   "outputs": [
    {
     "data": {
      "text/plain": [
       "b'{\"error\":{\"code\":\"no-such-entity\",\"info\":\"Could not find an entity with the ID \\\\\"m.05kgd8n\\\\\".\",\"id\":\"m.05kgd8n\",\"messages\":[{\"name\":\"wikibase-api-no-such-entity\",\"parameters\":[\"m.05kgd8n\"],\"html\":{\"*\":\"Could not find an entity with the ID \\\\\"m.05kgd8n\\\\\".\"}}],\"*\":\"See https://www.wikidata.org/w/api.php for API usage. Subscribe to the mediawiki-api-announce mailing list at &lt;https://lists.wikimedia.org/postorius/lists/mediawiki-api-announce.lists.wikimedia.org/&gt; for notice of API deprecations and breaking changes.\"},\"servedby\":\"mw1362\"}'"
      ]
     },
     "execution_count": 24,
     "metadata": {},
     "output_type": "execute_result"
    }
   ],
   "source": [
    "a.content"
   ]
  }
 ],
 "metadata": {
  "kernelspec": {
   "display_name": "base",
   "language": "python",
   "name": "python3"
  },
  "language_info": {
   "codemirror_mode": {
    "name": "ipython",
    "version": 3
   },
   "file_extension": ".py",
   "mimetype": "text/x-python",
   "name": "python",
   "nbconvert_exporter": "python",
   "pygments_lexer": "ipython3",
   "version": "3.9.12"
  },
  "orig_nbformat": 4
 },
 "nbformat": 4,
 "nbformat_minor": 2
}
